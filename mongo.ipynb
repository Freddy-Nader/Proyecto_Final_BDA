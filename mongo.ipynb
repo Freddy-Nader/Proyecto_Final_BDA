{
 "cells": [
  {
   "cell_type": "markdown",
   "id": "374b2b7c",
   "metadata": {},
   "source": [
    "# Proyecto final de Bases de Datos Avanzadas\n",
    "## Implementación y Consultas en MongoDB\n",
    "### 30 de abril de 2025\n",
    "---"
   ]
  },
  {
   "cell_type": "markdown",
   "id": "a69dd2dc",
   "metadata": {},
   "source": [
    "#### Configuración y Carga de Datos"
   ]
  },
  {
   "cell_type": "markdown",
   "id": "db33f6f5",
   "metadata": {},
   "source": [
    "Iniciamos un entorno virtual de python y bajamos las dependencias necesarias (`pymongo` para interactuar con MongoDB y `pandas` para facilitar la lectura del JSON):"
   ]
  },
  {
   "cell_type": "code",
   "execution_count": null,
   "id": "install_deps",
   "metadata": {},
   "outputs": [],
   "source": [
    "# Si ya tienes las dependencias instaladas, puedes omitir esta celda\n",
    "# !pip install pymongo pandas\n",
    "import sys\n",
    "!{sys.executable} -m pip install pymongo pandas"
   ]
  },
  {
   "cell_type": "markdown",
   "id": "4d6eb98d",
   "metadata": {},
   "source": [
    "Importamos las librerías necesarias:"
   ]
  },
  {
   "cell_type": "code",
   "execution_count": null,
   "id": "import_libs",
   "metadata": {},
   "outputs": [],
   "source": [
    "import json\n",
    "from pymongo import MongoClient\n",
    "import pandas as pd\n",
    "import datetime"
   ]
  },
  {
   "cell_type": "markdown",
   "id": "a8240096",
   "metadata": {},
   "source": [
    "Cargamos los datos del archivo `books.json`. Dado que es un archivo JSON donde cada línea es un documento separado, usamos `pandas.read_json` con `lines=True`."
   ]
  },
  {
   "cell_type": "code",
   "execution_count": null,
   "id": "ef152c4f",
   "metadata": {},
   "outputs": [],
   "source": [
    "# Cargar el JSON línea por línea\n",
    "# df = pd.read_json('books.json', lines=True)\n",
    "df = pd.read_json('books.json', lines=True)"
   ]
  },
  {
   "cell_type": "markdown",
   "id": "50a75212",
   "metadata": {},
   "source": [
    "Convertimos el DataFrame a una lista de diccionarios, que es un formato ideal para insertar en MongoDB."
   ]
  },
  {
   "cell_type": "code",
   "execution_count": null,
   "id": "load_json",
   "metadata": {},
   "outputs": [],
   "source": [
    "# Convertir DataFrame a lista de diccionarios para pymongo\n",
    "# Aseguramos que los valores NaN se manejen correctamente\n",
    "data = df.where(pd.notna(df), None).to_dict('records')"
   ]
  },
  {
   "cell_type": "markdown",
   "id": "44ee3854",
   "metadata": {},
   "source": [
    "Verificamos que se hayan cargado los docuemntos del archivo JSON y mostramos un ejemplo."
   ]
  },
  {
   "cell_type": "code",
   "execution_count": null,
   "id": "4f9e306d",
   "metadata": {},
   "outputs": [],
   "source": [
    "print(f\"Se cargaron {len(data)} documentos del archivo JSON.\")\n",
    "# Mostrar un ejemplo de la estructura del primer documento cargado\n",
    "if data:\n",
    "    import pprint\n",
    "    print(\"\\nEjemplo de un documento cargado:\")\n",
    "    pprint.pprint(data[0])"
   ]
  },
  {
   "cell_type": "markdown",
   "id": "cefe2b8a",
   "metadata": {},
   "source": [
    "#### Conexión a MongoDB e Inserción de Datos"
   ]
  },
  {
   "cell_type": "markdown",
   "id": "mongo_connection",
   "metadata": {},
   "source": [
    "Establecemos la conexión con el servidor de MongoDB (asegúrate de que tu servidor esté corriendo en `localhost:27017` o ajusta la URI de conexión según sea necesario). Nos conectamos a la base de datos `proyecto_final` y seleccionamos la colección `books`."
   ]
  },
  {
   "cell_type": "code",
   "execution_count": null,
   "id": "connect_and_select_db",
   "metadata": {},
   "outputs": [],
   "source": [
    "MONGO_URI = 'mongodb://localhost:27017/' \n",
    "DATABASE_NAME = 'proyecto_final'\n",
    "COLLECTION_NAME = 'books'\n",
    "\n",
    "try:\n",
    "    client = MongoClient(MONGO_URI)\n",
    "    db = client[DATABASE_NAME]\n",
    "    collection = db[COLLECTION_NAME]\n",
    "    \n",
    "    # Verificar conexión (opcional)\n",
    "    client.admin.command('ping')\n",
    "    print(f\"Conexión a MongoDB exitosa. Usando base de datos '{DATABASE_NAME}'.\")\n",
    "\n",
    "except Exception as e:\n",
    "    print(f\"Error al conectar a MongoDB: {e}\")\n",
    "    client = None # Asegurarse de que client sea None si la conexión falla"
   ]
  },
  {
   "cell_type": "markdown",
   "id": "mongo_insertion",
   "metadata": {},
   "source": [
    "Antes de insertar, limpiamos la colección para evitar duplicados si ejecutamos el notebook varias veces. Luego insertamos todos los documentos cargados del JSON."
   ]
  },
  {
   "cell_type": "code",
   "execution_count": null,
   "id": "insert_data",
   "metadata": {},
   "outputs": [],
   "source": [
    "if client: # Procede solo si la conexión fue exitosa\n",
    "    try:\n",
    "        # Eliminar documentos existentes en la colección\n",
    "        delete_result = collection.delete_many({})\n",
    "        print(f\"Documentos existentes eliminados: {delete_result.deleted_count}\")\n",
    "\n",
    "        # Insertar los nuevos documentos\n",
    "        # pymongo maneja automáticamente los tipos de datos como fechas, arrays, etc.\n",
    "        if data:\n",
    "            insert_result = collection.insert_many(data)\n",
    "            print(f\"Documentos insertados: {len(insert_result.inserted_ids)}\")\n",
    "        else:\n",
    "            print(\"No hay datos para insertar.\")\n",
    "\n",
    "    except Exception as e:\n",
    "        print(f\"Error durante la inserción de datos: {e}\")\n",
    "else:\n",
    "    print(\"No se pudo establecer conexión con MongoDB. Saltando inserción.\")"
   ]
  },
  {
   "cell_type": "markdown",
   "id": "mongo_verification",
   "metadata": {},
   "source": [
    "Verificamos la cantidad de documentos insertados en la colección `books`."
   ]
  },
  {
   "cell_type": "code",
   "execution_count": null,
   "id": "verify_insertion",
   "metadata": {},
   "outputs": [],
   "source": [
    "if client:\n",
    "    try:\n",
    "        count = collection.count_documents({})\n",
    "        print(f\"Total de documentos en la colección '{COLLECTION_NAME}': {count}\")\n",
    "        \n",
    "        print(\"\\nPrimeros 5 documentos en la colección:\")\n",
    "        # Usamos projection para mostrar solo algunos campos para brevedad\n",
    "        sample_docs = list(collection.find({}, {'_id': 1, 'title': 1, 'isbn': 1}).limit(5))\n",
    "        for doc in sample_docs:\n",
    "            print(doc)\n",
    "            \n",
    "    except Exception as e:\n",
    "        print(f\"Error durante la verificación de documentos: {e}\")\n",
    "else:\n",
    "    print(\"Conexión a MongoDB no establecida. Saltando verificación.\")"
   ]
  },
  {
   "cell_type": "markdown",
   "id": "mongo_queries",
   "metadata": {},
   "source": [
    "#### Consultas a la Colección"
   ]
  },
  {
   "cell_type": "markdown",
   "id": "query_title",
   "metadata": {},
   "source": [
    "##### 1. Consulta por título: Buscar libros por su título."
   ]
  },
  {
   "cell_type": "code",
   "execution_count": null,
   "id": "code_query_title",
   "metadata": {},
   "outputs": [],
   "source": [
    "if client:\n",
    "    search_title = \"Action\"\n",
    "    # Usamos $regex para buscar títulos que contengan la palabra, i para case-insensitive\n",
    "    query = {\"title\": {\"$regex\": search_title, \"$options\": \"i\"}}\n",
    "    \n",
    "    print(f\"Buscando libros con '{{search_title}}' en el título...\")\n",
    "    results = list(collection.find(query, {'_id': 1, 'title': 1, 'authors': 1}).limit(10)) # Limitar resultados para mostrar\n",
    "\n",
    "    df_results = pd.DataFrame(results)\n",
    "    print(f\"Encontrados {len(results)} resultados (mostrando los primeros 10):\")\n",
    "    display(df_results) # Usar display para mostrar DataFrame en Jupyter"
   ]
  },
  {
   "cell_type": "markdown",
   "id": "query_isbn",
   "metadata": {},
   "source": [
    "##### 2. Consulta por ISBN: Buscar un libro específico mediante su número ISBN."
   ]
  },
  {
   "cell_type": "code",
   "execution_count": null,
   "id": "code_query_isbn",
   "metadata": {},
   "outputs": [],
   "source": [
    "if client:\n",
    "    search_isbn = \"1933988673\"\n",
    "    query = {\"isbn\": search_isbn}\n",
    "    \n",
    "    print(f\"Buscando libro con ISBN '{search_isbn}'...\")\n",
    "    results = list(collection.find(query, {'_id': 1, 'title': 1, 'isbn': 1}))\n",
    "\n",
    "    df_results = pd.DataFrame(results)\n",
    "    print(f\"Encontrados {len(results)} resultados:\")\n",
    "    display(df_results)"
   ]
  },
  {
   "cell_type": "markdown",
   "id": "query_author",
   "metadata": {},
   "source": [
    "##### 3. Consulta por autor: Obtener todos los libros escritos por un autor en particular."
   ]
  },
  {
   "cell_type": "code",
   "execution_count": null,
   "id": "code_query_author",
   "metadata": {},
   "outputs": [],
   "source": [
    "if client:\n",
    "    search_author = \"W. Frank Ableson\"\n",
    "    # Buscamos documentos donde el array 'authors' contenga el nombre del autor\n",
    "    query = {\"authors\": search_author}\n",
    "    \n",
    "    print(f\"Buscando libros del autor '{search_author}'...\")\n",
    "    results = list(collection.find(query, {'_id': 1, 'title': 1, 'authors': 1}))\n",
    "\n",
    "    df_results = pd.DataFrame(results)\n",
    "    print(f\"Encontrados {len(results)} resultados:\")\n",
    "    display(df_results)"
   ]
  },
  {
   "cell_type": "markdown",
   "id": "query_category",
   "metadata": {},
   "source": [
    "##### 4. Consulta por categoría: Listar libros que pertenecen a una categoría específica."
   ]
  },
  {
   "cell_type": "code",
   "execution_count": null,
   "id": "code_query_category",
   "metadata": {},
   "outputs": [],
   "source": [
    "if client:\n",
    "    search_category = \"Java\"\n",
    "    # Buscamos documentos donde el array 'categories' contenga la categoría\n",
    "    query = {\"categories\": search_category}\n",
    "    \n",
    "    print(f\"Buscando libros en la categoría '{search_category}'...\")\n",
    "    results = list(collection.find(query, {'_id': 1, 'title': 1, 'categories': 1}))\n",
    "\n",
    "    df_results = pd.DataFrame(results)\n",
    "    print(f\"Encontrados {len(results)} resultados:\")\n",
    "    display(df_results)"
   ]
  },
  {
   "cell_type": "markdown",
   "id": "query_status",
   "metadata": {},
   "source": [
    "##### 5. Consulta por estado: Filtrar libros según su estado."
   ]
  },
  {
   "cell_type": "code",
   "execution_count": null,
   "id": "code_query_status",
   "metadata": {},
   "outputs": [],
   "source": [
    "if client:\n",
    "    search_status = \"PUBLISH\"\n",
    "    # Basado en la estructura del JSON de ejemplo, 'status' parece ser un string, no un arreglo\n",
    "    query = {\"status\": search_status}\n",
    "    \n",
    "    print(f\"Buscando libros con estado '{search_status}'...\")\n",
    "    results = list(collection.find(query, {'_id': 1, 'title': 1, 'status': 1}))\n",
    "\n",
    "    df_results = pd.DataFrame(results)\n",
    "    print(f\"Encontrados {len(results)} resultados:\")\n",
    "    display(df_results)"
   ]
  },
  {
   "cell_type": "markdown",
   "id": "query_count",
   "metadata": {},
   "source": [
    "##### 6. Número total de libros: Contar el total de libros almacenados en la colección."
   ]
  },
  {
   "cell_type": "code",
   "execution_count": null,
   "id": "code_query_count",
   "metadata": {},
   "outputs": [],
   "source": [
    "if client:\n",
    "    count = collection.count_documents({})\n",
    "    print(f\"El número total de libros en la colección es: {count}\")"
   ]
  },
  {
   "cell_type": "markdown",
   "id": "additional_query_1",
   "metadata": {},
   "source": [
    "##### 7. Buscar libros publicados después de una fecha específica"
   ]
  },
  {
   "cell_type": "code",
   "execution_count": null,
   "id": "code_additional_query_1",
   "metadata": {},
   "outputs": [],
   "source": [
    "if client:\n",
    "    # Convertir la fecha a un objeto datetime para la consulta\n",
    "    search_date = datetime.datetime(2010, 1, 1)\n",
    "    # Usamos $gte (greater than or equal) para encontrar fechas posteriores o iguales\n",
    "    # La estructura de fecha en el JSON original es un objeto con '$date'\n",
    "    query = {\"publishedDate\": {\"$gte\": search_date}}\n",
    "    \n",
    "    print(f\"Buscando libros publicados después de {search_date.date()}...\")\n",
    "    # Limitar resultados para mostrar\n",
    "    results = list(collection.find(query, {'_id': 1, 'title': 1, 'publishedDate': 1}).limit(10))\n",
    "\n",
    "    df_results = pd.DataFrame(results)\n",
    "    print(f\"Encontrados {len(results)} resultados (mostrando los primeros 10):\")\n",
    "    display(df_results)"
   ]
  },
  {
   "cell_type": "markdown",
   "id": "additional_query_2",
   "metadata": {},
   "source": [
    "##### 8. Encontrar libros con un número de páginas dentro de un rango"
   ]
  },
  {
   "cell_type": "code",
   "execution_count": null,
   "id": "code_additional_query_2",
   "metadata": {},
   "outputs": [],
   "source": [
    "if client:\n",
    "    min_pages = 400\n",
    "    max_pages = 600\n",
    "    # Usamos $gte (greater than or equal) y $lte (less than or equal) para el rango\n",
    "    query = {\"pageCount\": {\"$gte\": min_pages, \"$lte\": max_pages}}\n",
    "    \n",
    "    print(f\"Buscando libros con un número de páginas entre {min_pages} y {max_pages}...\")\n",
    "     # Limitar resultados para mostrar\n",
    "    results = list(collection.find(query, {'_id': 1, 'title': 1, 'pageCount': 1}).limit(10))\n",
    "\n",
    "    df_results = pd.DataFrame(results)\n",
    "    print(f\"Encontrados {len(results)} resultados (mostrando los primeros 10):\")\n",
    "    display(df_results)"
   ]
  },
  {
   "cell_type": "markdown",
   "id": "additional_query_3",
   "metadata": {},
   "source": [
    "##### 9. Listar autores distintos presentes en la base de datos"
   ]
  },
  {
   "cell_type": "code",
   "execution_count": null,
   "id": "code_additional_query_3",
   "metadata": {},
   "outputs": [],
   "source": [
    "if client:\n",
    "    # Usamos distinct para obtener los valores únicos del campo 'authors'\n",
    "    # Dado que 'authors' es un array, distinct nos dará cada nombre de autor único en todos los arrays.\n",
    "    try:\n",
    "        distinct_authors = collection.distinct(\"authors\")\n",
    "        \n",
    "        print(f\"Total de autores distintos encontrados: {len(distinct_authors)}\")\n",
    "        print(\"\\nPrimeros 20 autores distintos:\")\n",
    "        # Mostrar solo los primeros 20 para brevedad\n",
    "        for i, author in enumerate(distinct_authors[:20]):\n",
    "            print(f\"- {author}\")\n",
    "    except Exception as e:\n",
    "        print(f\"Error al obtener autores distintos: {e}\")"
   ]
  },
  {
   "cell_type": "markdown",
   "id": "additional_query_4",
   "metadata": {},
   "source": [
    "##### 10. Contar libros por estado"
   ]
  },
  {
   "cell_type": "code",
   "execution_count": null,
   "id": "code_additional_query_4",
   "metadata": {},
   "outputs": [],
   "source": [
    "if client:\n",
    "    # Usamos el framework de agregación para agrupar por estado y contar\n",
    "    pipeline = [\n",
    "        {\"$group\": {\"_id\": \"$status\", \"count\": {\"$sum\": 1}}}\n",
    "    ]\n",
    "    \n",
    "    print(\"Contando libros por estado...\")\n",
    "    results = list(collection.aggregate(pipeline))\n",
    "\n",
    "    df_results = pd.DataFrame(results)\n",
    "    # Renombrar columnas para claridad\n",
    "    df_results.rename(columns={'_id': 'estado', 'count': 'cantidad'}, inplace=True)\n",
    "    display(df_results)"
   ]
  },
  {
   "cell_type": "markdown",
   "id": "additional_query_5",
   "metadata": {},
   "source": [
    "##### 11. Encontrar libros que tienen una descripción corta pero no una larga"
   ]
  },
  {
   "cell_type": "code",
   "execution_count": null,
   "id": "code_additional_query_5",
   "metadata": {},
   "outputs": [],
   "source": [
    "if client:\n",
    "    # Buscamos documentos donde shortDescription exista y longDescription sea null o no exista\n",
    "    # $exists: True -> el campo existe\n",
    "    # $exists: False -> el campo no existe\n",
    "    # O podemos usar $in: [None] para buscar null (si es el caso)\n",
    "    # O verificar si es null usando {\"$type\": 10} para null BSON type\n",
    "    # Basado en el JSON, la ausencia del campo o su valor None son posibilidades\n",
    "    # Usaremos $exists y un check para None/null\n",
    "\n",
    "    # Consulta para documentos con shortDescription que existe Y longDescription que es null O no existe\n",
    "    query = {\n",
    "        \"shortDescription\": {\"$exists\": True, \"$ne\": None}, # Aseguramos que shortDescription existe y no es null\n",
    "        \"$or\": [\n",
    "            {\"longDescription\": None}, # longDescription es explicitamente null\n",
    "            {\"longDescription\": {\"$exists\": False}} # longDescription no existe\n",
    "        ]\n",
    "    }\n",
    "    \n",
    "    print(\"Buscando libros con descripción corta pero sin descripción larga...\")\n",
    "    # Limitar resultados para mostrar\n",
    "    results = list(collection.find(query, {'_id': 1, 'title': 1, 'shortDescription': 1, 'longDescription': 1}).limit(10))\n",
    "\n",
    "    df_results = pd.DataFrame(results)\n",
    "    print(f\"Encontrados {len(results)} resultados (mostrando los primeros 10):\")\n",
    "    display(df_results)"
   ]
  },
  {
   "cell_type": "markdown",
   "id": "fee4c69e",
   "metadata": {},
   "source": [
    "Vemos qué libros ha escrito \"Robi Sen\":"
   ]
  },
  {
   "cell_type": "code",
   "execution_count": null,
   "id": "c959a37b",
   "metadata": {},
   "outputs": [],
   "source": [
    "author = \"Robi Sen\"\n",
    "\n",
    "# La consulta busca documentos donde el array 'authors' contenga el valor 'author'\n",
    "query = {\"authors\": author}\n",
    "\n",
    "print(f\"Buscando libros escritos por '{author}'...\")\n",
    "\n",
    "# Ejecutamos la consulta y seleccionamos solo los campos _id, title, y authors para mostrar\n",
    "results_cursor = collection.find(query, {'_id': 1, 'title': 1, 'authors': 1})\n",
    "\n",
    "# Convertir el cursor a una lista y luego a DataFrame para visualización\n",
    "results_list = list(results_cursor)\n",
    "df_results = pd.DataFrame(results_list)\n",
    "\n",
    "print(f\"Encontrados {len(results_list)} resultados:\")\n",
    "display(df_results)"
   ]
  }
 ],
 "metadata": {
  "kernelspec": {
   "display_name": ".venv",
   "language": "python",
   "name": "python3"
  },
  "language_info": {
   "codemirror_mode": {
    "name": "ipython",
    "version": 3
   },
   "file_extension": ".py",
   "mimetype": "text/x-python",
   "name": "python",
   "nbconvert_exporter": "python",
   "pygments_lexer": "ipython3",
   "version": "3.13.3"
  }
 },
 "nbformat": 4,
 "nbformat_minor": 5
}
